{
 "cells": [
  {
   "cell_type": "code",
   "execution_count": 21,
   "metadata": {},
   "outputs": [],
   "source": [
    "import numpy as np\n",
    "import matplotlib.pyplot as plt "
   ]
  },
  {
   "cell_type": "code",
   "execution_count": 22,
   "metadata": {},
   "outputs": [],
   "source": [
    "class Particle:\n",
    "    def __init__(self, dim, init_type='gaussian', init_mean=0.0, init_std=1.0):\n",
    "        if init_type == 'gaussian':\n",
    "            self.position = np.random.normal(loc=init_mean, scale=init_std, size=dim)  # Initialize particle's position randomly using Gaussian distribution\n",
    "            self.velocity = np.random.normal(loc=init_mean, scale=init_std, size=dim)  # Initialize particle's velocity randomly using Gaussian distribution\n",
    "            self.best_position = self.position.copy()  # Initialize best position as current position\n",
    "            self.best_score = float('inf')  # Initialize best score as infinity\n",
    "        else:\n",
    "            raise ValueError(\"Invalid initialization type. Use 'gaussian'.\")"
   ]
  },
  {
   "cell_type": "code",
   "execution_count": 23,
   "metadata": {},
   "outputs": [],
   "source": [
    "def drop(xx):\n",
    "    x1 = xx[0]\n",
    "    x2 = xx[1]\n",
    "\n",
    "    frac1 = 1 + np.cos(12 * np.sqrt(x1 ** 2 + x2 ** 2))\n",
    "    frac2 = 0.5 * (x1 ** 2 + x2 ** 2) + 2\n",
    "\n",
    "    y = -frac1 / frac2\n",
    "    return y"
   ]
  },
  {
   "cell_type": "code",
   "execution_count": 24,
   "metadata": {},
   "outputs": [],
   "source": [
    "def pso(objective_function, num_particles, max_iterations, dim, init_type='gaussian', init_mean=0.0, init_std=1.0,plot = True):\n",
    "    particles = [Particle(dim, init_type, init_mean, init_std) for _ in range(num_particles)]  # Initialize particles\n",
    "\n",
    "    global_best_position = np.random.normal(loc=init_mean, scale=init_std, size=dim)  # Initialize global best position randomly using Gaussian distribution\n",
    "    global_best_score = float('inf')  # Initialize global best score as infinity\n",
    "    fitness_history = []\n",
    "    for _ in range(max_iterations):\n",
    "        for particle in particles:\n",
    "\n",
    "\n",
    "            # Update particle's velocity and position\n",
    "            inertia_weight = 0.5\n",
    "            cognitive_weight = 1.5\n",
    "            social_weight = 1.5\n",
    "            r1, r2 = np.random.rand(dim), np.random.rand(dim)  # Random numbers for stochasticity\n",
    "\n",
    "            particle.velocity = (inertia_weight * particle.velocity +\n",
    "                                 cognitive_weight * r1 * (particle.best_position - particle.position) +\n",
    "                                 social_weight * r2 * (global_best_position - particle.position))\n",
    "            particle.position += particle.velocity\n",
    "\n",
    "\n",
    "\n",
    "\n",
    "            # Evaluate particle's current position\n",
    "            score = objective_function(particle.position)\n",
    "\n",
    "\n",
    "\n",
    "\n",
    "            # Update particle's best position and score if current position is better\n",
    "            if score < particle.best_score:\n",
    "                particle.best_position = particle.position.copy()\n",
    "                particle.best_score = score\n",
    "\n",
    "\n",
    "\n",
    "\n",
    "            # Update global best position and score if current particle's best is better\n",
    "            if score < global_best_score:\n",
    "                global_best_position = particle.best_position.copy()\n",
    "                global_best_score = score\n",
    "\n",
    "            \n",
    "        fitness_history.append(global_best_score)\n",
    "    if plot:\n",
    "        plt.plot(fitness_history)\n",
    "        plt.title(\"Convergence Curve\")\n",
    "        plt.xlabel(\"Iteration\")\n",
    "        plt.ylabel(\"Fitness\")\n",
    "        plt.show()\n",
    "    return global_best_position, global_best_score"
   ]
  },
  {
   "cell_type": "code",
   "execution_count": 25,
   "metadata": {},
   "outputs": [
    {
     "data": {
      "image/png": "[encoded data removed]",
      "text/plain": [
       "<Figure size 640x480 with 1 Axes>"
      ]
     },
     "metadata": {},
     "output_type": "display_data"
    },
    {
     "name": "stdout",
     "output_type": "stream",
     "text": [
      "[ 1.02671925e-10 -5.58057956e-10] -1.0\n"
     ]
    }
   ],
   "source": [
    "best_position , best_score  = pso(drop , num_particles=30 , max_iterations=100 , dim=2 , plot=True)\n",
    "\n",
    "print( best_position,best_score )"
   ]
  },
  {
   "cell_type": "code",
   "execution_count": null,
   "metadata": {},
   "outputs": [],
   "source": []
  }
 ],
 "metadata": {
  "kernelspec": {
   "display_name": "base",
   "language": "python",
   "name": "python3"
  },
  "language_info": {
   "codemirror_mode": {
    "name": "ipython",
    "version": 3
   },
   "file_extension": ".py",
   "mimetype": "text/x-python",
   "name": "python",
   "nbconvert_exporter": "python",
   "pygments_lexer": "ipython3",
   "version": "3.11.7"
  }
 },
 "nbformat": 4,
 "nbformat_minor": 2
}
